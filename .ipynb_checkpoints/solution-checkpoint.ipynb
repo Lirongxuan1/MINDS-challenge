{
 "cells": [
  {
   "cell_type": "code",
   "execution_count": 1,
   "id": "b7955510",
   "metadata": {},
   "outputs": [],
   "source": [
    "import requests\n",
    "import json\n",
    "from bs4 import BeautifulSoup"
   ]
  },
  {
   "cell_type": "code",
   "execution_count": 2,
   "id": "7af6b3fa",
   "metadata": {},
   "outputs": [],
   "source": [
    "root_url = \"https://www.aljazeera.com/\"\n",
    "# Prefix for links from Mozambique page\n",
    "article_prefix = \"/news/2\"\n",
    "# Get contents from root page\n",
    "resp = requests.get(root_url + 'where/mozambique/')\n",
    "soup = BeautifulSoup(resp.text, 'html.parser')"
   ]
  },
  {
   "cell_type": "code",
   "execution_count": 3,
   "id": "e2f3fdd8",
   "metadata": {},
   "outputs": [],
   "source": [
    "# Get links from the parent page\n",
    "links = []\n",
    "for link in soup.find_all('a'):\n",
    "    if link.get('href').startswith(article_prefix):\n",
    "        links.append(link.get('href'))\n",
    "#Sorting list to get most most recent\n",
    "links.sort(reverse=True)\n",
    "links = links[:10]"
   ]
  },
  {
   "cell_type": "code",
   "execution_count": 4,
   "id": "c22f03eb",
   "metadata": {},
   "outputs": [],
   "source": [
    "# Fetch all raw articles\n",
    "articles = []\n",
    "for link in links:\n",
    "    resp = requests.get(root_url + link)\n",
    "    article_soup = BeautifulSoup(resp.text, 'html.parser')\n",
    "    articles.append(article_soup)"
   ]
  },
  {
   "cell_type": "code",
   "execution_count": 5,
   "id": "f93a1c4b",
   "metadata": {},
   "outputs": [],
   "source": [
    "# Preprocess so only text is in article_texts\n",
    "text_tag = \"wysiwyg wysiwyg--all-content css-1ck9wyi\"\n",
    "article_texts = []\n",
    "for article_soup in articles:\n",
    "    # Use tag to find text only\n",
    "    text = article_soup.find(\"div\", {\"class\": text_tag})\n",
    "    # Get text from html tags, remove newline characters\n",
    "    article_texts.append(text.get_text().replace('\\n',' '))"
   ]
  },
  {
   "cell_type": "code",
   "execution_count": 20,
   "id": "b7b99e47",
   "metadata": {},
   "outputs": [
    {
     "name": "stderr",
     "output_type": "stream",
     "text": [
      "[nltk_data] Downloading package punkt to\n",
      "[nltk_data]     C:\\Users\\Liron\\AppData\\Roaming\\nltk_data...\n",
      "[nltk_data]   Unzipping tokenizers\\punkt.zip.\n",
      "[nltk_data] Downloading package vader_lexicon to\n",
      "[nltk_data]     C:\\Users\\Liron\\AppData\\Roaming\\nltk_data...\n",
      "[nltk_data]   Package vader_lexicon is already up-to-date!\n"
     ]
    },
    {
     "data": {
      "text/plain": [
       "True"
      ]
     },
     "execution_count": 20,
     "metadata": {},
     "output_type": "execute_result"
    }
   ],
   "source": [
    "# Compute sentiment\n",
    "# Partially adapted from https://www.nltk.org/howto/sentiment.html\n",
    "import nltk\n",
    "from nltk.sentiment.vader import SentimentIntensityAnalyzer\n",
    "from nltk import tokenize\n",
    "from nltk.tokenize import sent_tokenize\n",
    "nltk.download('punkt')\n",
    "nltk.download('vader_lexicon')"
   ]
  },
  {
   "cell_type": "code",
   "execution_count": 11,
   "id": "6f5b43cb",
   "metadata": {},
   "outputs": [
    {
     "data": {
      "text/plain": [
       "['/news/2022/5/23/floods-hit-south-africas-kwazulu-natal-province-again',\n",
       " '/news/2022/3/4/mozambique-announces-new-prime-minister-and-finance-minister',\n",
       " '/news/2022/3/18/mozambique-cyclone-gombe-death-toll-rises-to-53',\n",
       " '/news/2022/1/27/at-least-70-dead-from-tropical-storm-ana-in-southern-africa',\n",
       " '/news/2022/1/12/southern-africa-bloc-sadc-extends-mozambique-mission',\n",
       " '/news/2021/9/24/in-mozambique-kagame-says-rwandan-troops-presence-to-continue',\n",
       " '/news/2021/8/8/rwanda-mozambique-forces-recapture-port-city-from-rebels',\n",
       " '/news/2021/7/10/rwanda-deploys-1000-soldiers-to-mozambique-cabo-delgado',\n",
       " '/news/2021/6/9/dozens-of-children-mostly-girls-abducted-by-mozambique-fighters',\n",
       " '/news/2021/6/23/southern-african-nations-agree-to-deploy-forces-to-mozambique']"
      ]
     },
     "execution_count": 11,
     "metadata": {},
     "output_type": "execute_result"
    }
   ],
   "source": [
    "links"
   ]
  },
  {
   "cell_type": "code",
   "execution_count": 24,
   "id": "b5f5a20e",
   "metadata": {},
   "outputs": [],
   "source": [
    "#smwqywdfqkbbibgmyvnutfiiklztajvkbdtcxtpssrunmqfwvrrlbsfwdlwejdhsnqxtecrrydbfevm\n",
    "article_sentence_sentiments = []\n",
    "for art in article_texts:\n",
    "    sentiments = {'compound' : [], 'neg' : [], 'neu' : [],'pos' : []}\n",
    "    sentences = sent_tokenize(art)\n",
    "    for sent in sentences:\n",
    "        sid = SentimentIntensityAnalyzer()\n",
    "        ss = sid.polarity_scores(sent)\n",
    "        sentiments['compound'].append(ss['compound'])\n",
    "        sentiments['neg'].append(ss['neg'])\n",
    "        sentiments['neu'].append(ss['neu'])\n",
    "        sentiments['pos'].append(ss['pos'])\n",
    "    article_sentence_sentiments.append(sentiments)"
   ]
  },
  {
   "cell_type": "code",
   "execution_count": 26,
   "id": "a1c633d6",
   "metadata": {},
   "outputs": [
    {
     "ename": "NameError",
     "evalue": "name 'article_average_sentiment' is not defined",
     "output_type": "error",
     "traceback": [
      "\u001b[1;31m---------------------------------------------------------------------------\u001b[0m",
      "\u001b[1;31mNameError\u001b[0m                                 Traceback (most recent call last)",
      "Input \u001b[1;32mIn [26]\u001b[0m, in \u001b[0;36m<cell line: 2>\u001b[1;34m()\u001b[0m\n\u001b[0;32m      6\u001b[0m art_sent[\u001b[38;5;124m'\u001b[39m\u001b[38;5;124mneu\u001b[39m\u001b[38;5;124m'\u001b[39m] \u001b[38;5;241m=\u001b[39m \u001b[38;5;28msum\u001b[39m(sents[\u001b[38;5;124m'\u001b[39m\u001b[38;5;124mneu\u001b[39m\u001b[38;5;124m'\u001b[39m]) \u001b[38;5;241m/\u001b[39m \u001b[38;5;28mlen\u001b[39m(sents[\u001b[38;5;124m'\u001b[39m\u001b[38;5;124mneu\u001b[39m\u001b[38;5;124m'\u001b[39m])\n\u001b[0;32m      7\u001b[0m art_sent[\u001b[38;5;124m'\u001b[39m\u001b[38;5;124mpos\u001b[39m\u001b[38;5;124m'\u001b[39m] \u001b[38;5;241m=\u001b[39m \u001b[38;5;28msum\u001b[39m(sents[\u001b[38;5;124m'\u001b[39m\u001b[38;5;124mpos\u001b[39m\u001b[38;5;124m'\u001b[39m]) \u001b[38;5;241m/\u001b[39m \u001b[38;5;28mlen\u001b[39m(sents[\u001b[38;5;124m'\u001b[39m\u001b[38;5;124mpos\u001b[39m\u001b[38;5;124m'\u001b[39m])\n\u001b[1;32m----> 8\u001b[0m \u001b[43marticle_average_sentiment\u001b[49m\u001b[38;5;241m.\u001b[39mappend()\n",
      "\u001b[1;31mNameError\u001b[0m: name 'article_average_sentiment' is not defined"
     ]
    }
   ],
   "source": [
    "article_average_sentiments = []\n",
    "for sents in article_sentence_sentiments:\n",
    "    art_sent = {}\n",
    "    art_sent['compound'] = sum(sents['compound']) / len(sents['compound'])\n",
    "    art_sent['neg'] = sum(sents['neg']) / len(sents['neg'])\n",
    "    art_sent['neu'] = sum(sents['neu']) / len(sents['neu'])\n",
    "    art_sent['pos'] = sum(sents['pos']) / len(sents['pos'])\n",
    "    article_average_sentiment.append()"
   ]
  },
  {
   "cell_type": "code",
   "execution_count": 13,
   "id": "85e6e92a",
   "metadata": {},
   "outputs": [
    {
     "name": "stdout",
     "output_type": "stream",
     "text": [
      "1\n",
      "compound: -0.9332, \n",
      "neg: 0.106, \n",
      "neu: 0.827, \n",
      "pos: 0.067, \n",
      "2\n",
      "compound: -0.304, \n",
      "neg: 0.052, \n",
      "neu: 0.908, \n",
      "pos: 0.04, \n",
      "3\n",
      "compound: -0.9904, \n",
      "neg: 0.243, \n",
      "neu: 0.747, \n",
      "pos: 0.01, \n",
      "4\n",
      "compound: -0.9958, \n",
      "neg: 0.185, \n",
      "neu: 0.771, \n",
      "pos: 0.044, \n",
      "5\n",
      "compound: -0.5106, \n",
      "neg: 0.054, \n",
      "neu: 0.871, \n",
      "pos: 0.075, \n",
      "6\n",
      "compound: -0.9965, \n",
      "neg: 0.115, \n",
      "neu: 0.84, \n",
      "pos: 0.046, \n",
      "7\n",
      "compound: 0.1779, \n",
      "neg: 0.043, \n",
      "neu: 0.906, \n",
      "pos: 0.051, \n",
      "8\n",
      "compound: -0.9926, \n",
      "neg: 0.149, \n",
      "neu: 0.776, \n",
      "pos: 0.075, \n",
      "9\n",
      "compound: -0.9957, \n",
      "neg: 0.148, \n",
      "neu: 0.807, \n",
      "pos: 0.045, \n",
      "10\n",
      "compound: -0.9972, \n",
      "neg: 0.149, \n",
      "neu: 0.803, \n",
      "pos: 0.047, \n"
     ]
    }
   ],
   "source": [
    "ct = 0\n",
    "for art in article_texts:\n",
    "    ct += 1\n",
    "    sid = SentimentIntensityAnalyzer()\n",
    "    print(ct)\n",
    "    ss = sid.polarity_scores(art)\n",
    "    for k in sorted(ss):\n",
    "        print('{0}: {1}, '.format(k, ss[k]), end='')\n",
    "        print()"
   ]
  },
  {
   "cell_type": "code",
   "execution_count": 23,
   "id": "49f02c5d",
   "metadata": {},
   "outputs": [
    {
     "name": "stdout",
     "output_type": "stream",
     "text": [
      "1\n",
      "-0.9332\n"
     ]
    }
   ],
   "source": [
    "ct = 0\n",
    "for art in article_texts:\n",
    "    ct += 1\n",
    "    if ct > 1:\n",
    "        break\n",
    "    sid = SentimentIntensityAnalyzer()\n",
    "    print(ct)\n",
    "    ss = sid.polarity_scores(art)\n",
    "    print (ss['compound'])"
   ]
  }
 ],
 "metadata": {
  "kernelspec": {
   "display_name": "Python 3 (ipykernel)",
   "language": "python",
   "name": "python3"
  },
  "language_info": {
   "codemirror_mode": {
    "name": "ipython",
    "version": 3
   },
   "file_extension": ".py",
   "mimetype": "text/x-python",
   "name": "python",
   "nbconvert_exporter": "python",
   "pygments_lexer": "ipython3",
   "version": "3.10.4"
  }
 },
 "nbformat": 4,
 "nbformat_minor": 5
}
