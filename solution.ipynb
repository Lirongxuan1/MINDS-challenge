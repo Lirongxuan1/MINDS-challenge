{
 "cells": [
  {
   "cell_type": "code",
   "execution_count": 1,
   "id": "b7955510",
   "metadata": {},
   "outputs": [],
   "source": [
    "import requests\n",
    "import json\n",
    "from bs4 import BeautifulSoup"
   ]
  },
  {
   "cell_type": "code",
   "execution_count": 2,
   "id": "7af6b3fa",
   "metadata": {},
   "outputs": [],
   "source": [
    "root_url = \"https://www.aljazeera.com/\"\n",
    "# Prefix for links from Mozambique page\n",
    "article_prefix = \"/news/2\"\n",
    "# Get contents from root page\n",
    "resp = requests.get(root_url + 'where/mozambique/')\n",
    "soup = BeautifulSoup(resp.text, 'html.parser')"
   ]
  },
  {
   "cell_type": "code",
   "execution_count": 3,
   "id": "e2f3fdd8",
   "metadata": {},
   "outputs": [],
   "source": [
    "# Get links from the parent page\n",
    "links = []\n",
    "for link in soup.find_all('a'):\n",
    "    if link.get('href').startswith(article_prefix):\n",
    "        links.append(link.get('href'))\n",
    "#Sorting list to get most most recent\n",
    "links.sort(reverse=True)\n",
    "links = links[:10]"
   ]
  },
  {
   "cell_type": "code",
   "execution_count": 4,
   "id": "c22f03eb",
   "metadata": {},
   "outputs": [],
   "source": [
    "# Fetch all raw articles\n",
    "articles = []\n",
    "for link in links:\n",
    "    resp = requests.get(root_url + link)\n",
    "    article_soup = BeautifulSoup(resp.text, 'html.parser')\n",
    "    articles.append(article_soup)"
   ]
  },
  {
   "cell_type": "code",
   "execution_count": 6,
   "id": "f93a1c4b",
   "metadata": {},
   "outputs": [],
   "source": [
    "# Preprocess so only text is in article_texts\n",
    "text_tag = \"wysiwyg wysiwyg--all-content css-1ck9wyi\"\n",
    "article_texts = []\n",
    "for article_soup in articles:\n",
    "    # Use tag to find text only\n",
    "    text = article_soup.find(\"div\", {\"class\": text_tag})\n",
    "    # Get text from html tags, remove newline characters\n",
    "    article_texts.append(text.get_text().replace('\\n',' '))"
   ]
  },
  {
   "cell_type": "code",
   "execution_count": null,
   "id": "b7b99e47",
   "metadata": {},
   "outputs": [],
   "source": [
    "# Compute sentiment"
   ]
  }
 ],
 "metadata": {
  "kernelspec": {
   "display_name": "Python 3 (ipykernel)",
   "language": "python",
   "name": "python3"
  },
  "language_info": {
   "codemirror_mode": {
    "name": "ipython",
    "version": 3
   },
   "file_extension": ".py",
   "mimetype": "text/x-python",
   "name": "python",
   "nbconvert_exporter": "python",
   "pygments_lexer": "ipython3",
   "version": "3.10.4"
  }
 },
 "nbformat": 4,
 "nbformat_minor": 5
}
